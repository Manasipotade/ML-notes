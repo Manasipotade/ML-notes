{
  "nbformat": 4,
  "nbformat_minor": 0,
  "metadata": {
    "colab": {
      "name": "Manipulating Data with NumPy.ipynb",
      "version": "0.3.2",
      "provenance": [],
      "collapsed_sections": [],
      "include_colab_link": true
    },
    "kernelspec": {
      "name": "python3",
      "display_name": "Python 3"
    }
  },
  "cells": [
    {
      "cell_type": "markdown",
      "metadata": {
        "id": "view-in-github",
        "colab_type": "text"
      },
      "source": [
        "<a href=\"https://colab.research.google.com/github/Manasipotade/ML-notes/blob/master/Manipulating_Data_with_NumPy.ipynb\" target=\"_parent\"><img src=\"https://colab.research.google.com/assets/colab-badge.svg\" alt=\"Open In Colab\"/></a>"
      ]
    },
    {
      "cell_type": "markdown",
      "metadata": {
        "id": "EJacWa591xie",
        "colab_type": "text"
      },
      "source": [
        "# What is NumPy?\n",
        "\n",
        "It stands for \"Numerical Python\". NumPy is a Python module that provides fast and efficient array operations of homogeneous data. It is the core library for scientific computing in Python providing a high-performance multidimensional array object, and tools for working with arrays.\n",
        "\n",
        "NumPy is one of the many packages that are extremely essential in your data science journey because this library equips you with an array data structure that offers some benefits over the traditional data structures of Python like lists.\n",
        "\n",
        "NumPy Arrays\n",
        "The central feature of NumPy is the array object class, also called the ndarray. Arrays are very similar to lists in Python, except that every element of an array must be of the same type (in lists you can hold data which have different types), typically a numeric type like float or int. \n",
        "\n",
        "Arrays make operations with large amounts of numeric data very fast and are generally much more efficient than lists. You can chose to create arrays of n dimensions (Python list is an array of pointers to Python objects, at least 4 bytes per pointer plus 16 bytes for even the smallest Python object; 4 for type pointer, 4 for reference count, 4 for value and the memory allocators rounds up to 16. A NumPy array is an array of uniform values -- single-precision numbers takes 4 bytes each, double-precision ones, 8 bytes).\n",
        "\n"
      ]
    },
    {
      "cell_type": "markdown",
      "metadata": {
        "id": "nnzbQDo-2FvY",
        "colab_type": "text"
      },
      "source": [
        "# Creating NumPy arrays\n",
        "\n",
        "The syntax of creating a NumPy array is:"
      ]
    },
    {
      "cell_type": "code",
      "metadata": {
        "id": "nxb4gAcM1rMP",
        "colab_type": "code",
        "colab": {}
      },
      "source": [
        "numpy.array(object, dtype = None, copy = True, order = None, subok = False, ndmin = 0)"
      ],
      "execution_count": 0,
      "outputs": []
    },
    {
      "cell_type": "markdown",
      "metadata": {
        "id": "xklgXUuL2LvM",
        "colab_type": "text"
      },
      "source": [
        "Here, the arguments\n",
        "\n",
        "* **object**: Any object exposing the array interface\n",
        "* **dtype**: Desired data type of array, optional\n",
        "* **copy**: Optional. By default (true), the object is copied\n",
        "* **order**: C (row major) or F (column major) or A (any) (default)\n",
        "* **subok**: By default, returned array forced to be a base class array. If true, sub-classes passed through\n",
        "* **ndim**: Specifies minimum dimensions of resultant array\n"
      ]
    },
    {
      "cell_type": "markdown",
      "metadata": {
        "id": "jWEIbP332jhe",
        "colab_type": "text"
      },
      "source": [
        "# Sample Code"
      ]
    },
    {
      "cell_type": "code",
      "metadata": {
        "id": "F-hpOg2r2dsU",
        "colab_type": "code",
        "colab": {
          "base_uri": "https://localhost:8080/",
          "height": 84
        },
        "outputId": "510e744a-f638-4e8e-a767-dc6fd4bb7aa3"
      },
      "source": [
        "import numpy as np\n",
        "a = np.array([1,2,3,4])               # creates a 1-dimensional array\n",
        "b = np.array([[1,2,3,4], [5,6,7,8]])    # creates a 2-dimensional array\n",
        "print(a)\n",
        "print('----')\n",
        "print(b)"
      ],
      "execution_count": 1,
      "outputs": [
        {
          "output_type": "stream",
          "text": [
            "[1 2 3 4]\n",
            "----\n",
            "[[1 2 3 4]\n",
            " [5 6 7 8]]\n"
          ],
          "name": "stdout"
        }
      ]
    },
    {
      "cell_type": "markdown",
      "metadata": {
        "id": "X_2vQGCM2qWa",
        "colab_type": "text"
      },
      "source": [
        "# Advantages of using NumPy\n",
        "* Absolutely free since open-sourced\n",
        "* Faster access in reading and writing items\n",
        "* Time and space complexity of tasks is much lower when compared with traditional data structures\n",
        "* Has a lot of built-in functions for linear algebra"
      ]
    },
    {
      "cell_type": "markdown",
      "metadata": {
        "id": "H9OG2Fei26cc",
        "colab_type": "text"
      },
      "source": [
        "# Attributes of NumPy arrays\n",
        "\n",
        "## Shape\n",
        "It returns a tuple consisting of array dimensions i.e. tells us how many items are present in each dimension and can be found using the .shape attribute of the ndarray object."
      ]
    },
    {
      "cell_type": "code",
      "metadata": {
        "id": "njjeFdJy2mPK",
        "colab_type": "code",
        "colab": {
          "base_uri": "https://localhost:8080/",
          "height": 50
        },
        "outputId": "1fa2482a-7bed-4b6a-a4be-80f0d90d9eff"
      },
      "source": [
        "print('The shape of the array a is ', a.shape)\n",
        "print('The shape of the array b is ', b.shape)"
      ],
      "execution_count": 2,
      "outputs": [
        {
          "output_type": "stream",
          "text": [
            "The shape of the array a is  (4,)\n",
            "The shape of the array b is  (2, 4)\n"
          ],
          "name": "stdout"
        }
      ]
    },
    {
      "cell_type": "markdown",
      "metadata": {
        "id": "DzIPJEB-3Hv9",
        "colab_type": "text"
      },
      "source": [
        "## Dimensions\n",
        "It gives the number of dimensions and can be found using the .ndim attribute of ndarray object."
      ]
    },
    {
      "cell_type": "code",
      "metadata": {
        "id": "t2U7Nn5v3LAP",
        "colab_type": "code",
        "colab": {
          "base_uri": "https://localhost:8080/",
          "height": 50
        },
        "outputId": "9cc26236-0c56-4aac-8b16-d04956be329c"
      },
      "source": [
        "print('The dimensions of array a is ', a.ndim)\n",
        "print('The dimensions of array b is ', b.ndim)"
      ],
      "execution_count": 3,
      "outputs": [
        {
          "output_type": "stream",
          "text": [
            "The dimensions of array a is  1\n",
            "The dimensions of array b is  2\n"
          ],
          "name": "stdout"
        }
      ]
    },
    {
      "cell_type": "markdown",
      "metadata": {
        "id": "MhO-161t3RM3",
        "colab_type": "text"
      },
      "source": [
        "## Size\n",
        "It tells the total number of items in the array as a whole. More precisely it is the product of the elements of the .shape attribute of the array.\n"
      ]
    },
    {
      "cell_type": "code",
      "metadata": {
        "id": "sXhGNnqW3UzS",
        "colab_type": "code",
        "colab": {
          "base_uri": "https://localhost:8080/",
          "height": 50
        },
        "outputId": "72924698-d8f5-42be-c374-3f4fe591b0c2"
      },
      "source": [
        "print('The size of the array a is ', a.size)\n",
        "print('The size of the array b is ', b.size)"
      ],
      "execution_count": 4,
      "outputs": [
        {
          "output_type": "stream",
          "text": [
            "The size of the array a is  4\n",
            "The size of the array b is  8\n"
          ],
          "name": "stdout"
        }
      ]
    },
    {
      "cell_type": "markdown",
      "metadata": {
        "id": "tRl-mtnt3YhB",
        "colab_type": "text"
      },
      "source": [
        "## Datatype\n",
        "As the name suggests, it informs about the type of data in the array. Since a NumPy array consists of homogeneous data only, you will get only a single dtype.\n",
        "\n"
      ]
    },
    {
      "cell_type": "code",
      "metadata": {
        "id": "vvmP9scA3bYR",
        "colab_type": "code",
        "colab": {
          "base_uri": "https://localhost:8080/",
          "height": 50
        },
        "outputId": "20085756-89a0-4fb4-ca44-54e19c33f367"
      },
      "source": [
        "print('The datatype of the array a is ', a.dtype)\n",
        "print('The datatype of the array b is ', b.dtype)"
      ],
      "execution_count": 5,
      "outputs": [
        {
          "output_type": "stream",
          "text": [
            "The datatype of the array a is  int64\n",
            "The datatype of the array b is  int64\n"
          ],
          "name": "stdout"
        }
      ]
    },
    {
      "cell_type": "markdown",
      "metadata": {
        "id": "GVZu04pE3au6",
        "colab_type": "text"
      },
      "source": [
        "##Itemsize\n",
        "It represents the number of bytes in each element of the array."
      ]
    },
    {
      "cell_type": "code",
      "metadata": {
        "id": "mNZ4BiJ13ieq",
        "colab_type": "code",
        "colab": {
          "base_uri": "https://localhost:8080/",
          "height": 50
        },
        "outputId": "6c83c351-b6f8-4131-e243-0208993ebaba"
      },
      "source": [
        "print('The number of bytes in each element of the array a is  ', a.itemsize)\n",
        "print('The number of bytes in each element of the array b is ', b.itemsize)"
      ],
      "execution_count": 6,
      "outputs": [
        {
          "output_type": "stream",
          "text": [
            "The number of bytes in each element of the array a is   8\n",
            "The number of bytes in each element of the array b is  8\n"
          ],
          "name": "stdout"
        }
      ]
    },
    {
      "cell_type": "markdown",
      "metadata": {
        "id": "T9wIK3iN37ks",
        "colab_type": "text"
      },
      "source": [
        "## Reshape\n",
        "It gives a new shape to an array without changing its data.\n",
        "\n"
      ]
    },
    {
      "cell_type": "code",
      "metadata": {
        "id": "9I2rh-jO4BDL",
        "colab_type": "code",
        "colab": {
          "base_uri": "https://localhost:8080/",
          "height": 67
        },
        "outputId": "7eba8b67-21e0-4b0b-fa88-60475b81175f"
      },
      "source": [
        "# initialize NumPy array\n",
        "array = np.arange(1,11)\n",
        "print(array)\n",
        "\n",
        "# check dimensions\n",
        "dim = array.ndim\n",
        "\n",
        "# reshaped array\n",
        "reshaped = array.reshape(5,2)\n",
        "\n",
        "# check shape\n",
        "new_dim = reshaped.ndim\n",
        "\n",
        "#print\n",
        "print('Original Dimension: ',dim)\n",
        "print('New Dimension: ',new_dim)"
      ],
      "execution_count": 8,
      "outputs": [
        {
          "output_type": "stream",
          "text": [
            "[ 1  2  3  4  5  6  7  8  9 10]\n",
            "Original Dimension 1\n",
            "New Dimension 2\n"
          ],
          "name": "stdout"
        }
      ]
    },
    {
      "cell_type": "markdown",
      "metadata": {
        "id": "GoJOahuJ4vDH",
        "colab_type": "text"
      },
      "source": [
        "# Creating with Low-level ndarray Constructor"
      ]
    },
    {
      "cell_type": "markdown",
      "metadata": {
        "id": "Aht0d7b946Xr",
        "colab_type": "text"
      },
      "source": [
        "## np.empty()\n",
        "Creates an uninitialized (arbitrary) array of specified shape and dtype\n"
      ]
    },
    {
      "cell_type": "code",
      "metadata": {
        "id": "NMHyeW1S49Xg",
        "colab_type": "code",
        "colab": {
          "base_uri": "https://localhost:8080/",
          "height": 67
        },
        "outputId": "6154dd4c-8f16-4985-d919-3c3e1ee12e3b"
      },
      "source": [
        "np.empty((3,4),dtype='int8')"
      ],
      "execution_count": 9,
      "outputs": [
        {
          "output_type": "execute_result",
          "data": {
            "text/plain": [
              "array([[1, 1, 1, 1],\n",
              "       [1, 1, 1, 1],\n",
              "       [1, 1, 1, 1]], dtype=int8)"
            ]
          },
          "metadata": {
            "tags": []
          },
          "execution_count": 9
        }
      ]
    },
    {
      "cell_type": "markdown",
      "metadata": {
        "id": "PmUl9ez85DY8",
        "colab_type": "text"
      },
      "source": [
        "## np.zeros()\n",
        "Creates a new array of specified size, filled with zeros\n",
        "\n"
      ]
    },
    {
      "cell_type": "code",
      "metadata": {
        "id": "C_s_RiGz5CyX",
        "colab_type": "code",
        "colab": {
          "base_uri": "https://localhost:8080/",
          "height": 67
        },
        "outputId": "2a2ecf3e-93dc-469d-8b2c-8fac96d78af6"
      },
      "source": [
        "np.zeros((3,4),dtype='int8')"
      ],
      "execution_count": 10,
      "outputs": [
        {
          "output_type": "execute_result",
          "data": {
            "text/plain": [
              "array([[0, 0, 0, 0],\n",
              "       [0, 0, 0, 0],\n",
              "       [0, 0, 0, 0]], dtype=int8)"
            ]
          },
          "metadata": {
            "tags": []
          },
          "execution_count": 10
        }
      ]
    },
    {
      "cell_type": "markdown",
      "metadata": {
        "id": "N6Xp3j1L5LxC",
        "colab_type": "text"
      },
      "source": [
        "## np.ones()\n",
        "Creates a new array of specified size and type, filled with ones"
      ]
    },
    {
      "cell_type": "code",
      "metadata": {
        "id": "8_gYbIyv5O0q",
        "colab_type": "code",
        "colab": {
          "base_uri": "https://localhost:8080/",
          "height": 67
        },
        "outputId": "94c1f9f6-c91a-4f7e-a243-a51dab91f0bf"
      },
      "source": [
        "np.ones((3,4),dtype='int8')"
      ],
      "execution_count": 11,
      "outputs": [
        {
          "output_type": "execute_result",
          "data": {
            "text/plain": [
              "array([[1, 1, 1, 1],\n",
              "       [1, 1, 1, 1],\n",
              "       [1, 1, 1, 1]], dtype=int8)"
            ]
          },
          "metadata": {
            "tags": []
          },
          "execution_count": 11
        }
      ]
    },
    {
      "cell_type": "markdown",
      "metadata": {
        "id": "jpvmDvXz5RK0",
        "colab_type": "text"
      },
      "source": [
        "## np.full()\n",
        "Creates a new array of given shape and type, filled with a constant value"
      ]
    },
    {
      "cell_type": "code",
      "metadata": {
        "id": "O3llrdiX5TvF",
        "colab_type": "code",
        "colab": {
          "base_uri": "https://localhost:8080/",
          "height": 50
        },
        "outputId": "ee5f56f9-4d7c-4134-d15c-e955a93dfd86"
      },
      "source": [
        "np.full((2,2),7)"
      ],
      "execution_count": 12,
      "outputs": [
        {
          "output_type": "execute_result",
          "data": {
            "text/plain": [
              "array([[7, 7],\n",
              "       [7, 7]])"
            ]
          },
          "metadata": {
            "tags": []
          },
          "execution_count": 12
        }
      ]
    },
    {
      "cell_type": "markdown",
      "metadata": {
        "id": "U6PRJaWO5Tbp",
        "colab_type": "text"
      },
      "source": [
        "## np.eye()\n",
        "Creates a 2-D array with ones on the diagonal and zeros elsewhere\n"
      ]
    },
    {
      "cell_type": "code",
      "metadata": {
        "id": "eijS2SDm4Hdq",
        "colab_type": "code",
        "colab": {
          "base_uri": "https://localhost:8080/",
          "height": 67
        },
        "outputId": "783fdaee-bc5e-45d7-f75e-23ad3e6dfc25"
      },
      "source": [
        "np.eye(3, dtype='int')"
      ],
      "execution_count": 14,
      "outputs": [
        {
          "output_type": "execute_result",
          "data": {
            "text/plain": [
              "array([[1, 0, 0],\n",
              "       [0, 1, 0],\n",
              "       [0, 0, 1]])"
            ]
          },
          "metadata": {
            "tags": []
          },
          "execution_count": 14
        }
      ]
    },
    {
      "cell_type": "markdown",
      "metadata": {
        "id": "mdnkMRz85q-O",
        "colab_type": "text"
      },
      "source": [
        "# Creating with Existing Data\n",
        "\n",
        "New NumPy arrays can also be created from already existing ones"
      ]
    },
    {
      "cell_type": "markdown",
      "metadata": {
        "id": "B-FtEOqS52nb",
        "colab_type": "text"
      },
      "source": [
        "## np.asarray( )\n",
        "This command is very similar to the np.array() command.\n",
        "* Converting a list to array"
      ]
    },
    {
      "cell_type": "code",
      "metadata": {
        "id": "n3j9IgoI6A8-",
        "colab_type": "code",
        "colab": {
          "base_uri": "https://localhost:8080/",
          "height": 34
        },
        "outputId": "50a54dea-62a2-4241-f7e3-3de998c76967"
      },
      "source": [
        "#python list\n",
        "a=[1,2,3]\n",
        "#convert to NumPy array\n",
        "b=np.asarray(a)\n",
        "print(b)"
      ],
      "execution_count": 15,
      "outputs": [
        {
          "output_type": "stream",
          "text": [
            "[1 2 3]\n"
          ],
          "name": "stdout"
        }
      ]
    },
    {
      "cell_type": "markdown",
      "metadata": {
        "id": "mrgVbSIj6FJ_",
        "colab_type": "text"
      },
      "source": [
        "* Converting tuples into array"
      ]
    },
    {
      "cell_type": "code",
      "metadata": {
        "id": "u7ad9LgO6JSi",
        "colab_type": "code",
        "colab": {
          "base_uri": "https://localhost:8080/",
          "height": 50
        },
        "outputId": "a7db8aa4-8dac-4fcc-899a-dda7e00ad7b6"
      },
      "source": [
        "#python tuples\n",
        "a=((1,2),(3,4))\n",
        "\n",
        "#convery to NumPy array\n",
        "b=np.asarray(a)\n",
        "print(b)"
      ],
      "execution_count": 16,
      "outputs": [
        {
          "output_type": "stream",
          "text": [
            "[[1 2]\n",
            " [3 4]]\n"
          ],
          "name": "stdout"
        }
      ]
    },
    {
      "cell_type": "markdown",
      "metadata": {
        "id": "LQJ1uuEg6NE1",
        "colab_type": "text"
      },
      "source": [
        "## np.fromiter( )\n",
        "This function creates a NumPy ndarray from an iterable"
      ]
    },
    {
      "cell_type": "code",
      "metadata": {
        "id": "jKHtzXVH5agC",
        "colab_type": "code",
        "colab": {
          "base_uri": "https://localhost:8080/",
          "height": 84
        },
        "outputId": "23fbcb70-e84f-482b-c929-4b1794f6752e"
      },
      "source": [
        "a=np.fromiter([1,2,3,4],dtype='int8')\n",
        "b=np.fromiter((1,2,3,4),dtype='int8')\n",
        "c=np.fromiter(range(1,5),dtype='int8')\n",
        "d=np.fromiter('string',dtype='S50')\n",
        "\n",
        "print(\"Array a is \",a)\n",
        "print(\"Array b is \",b)\n",
        "print(\"Array c is \",c)\n",
        "print(\"Array d is \",d)"
      ],
      "execution_count": 17,
      "outputs": [
        {
          "output_type": "stream",
          "text": [
            "Array a is  [1 2 3 4]\n",
            "Array b is  [1 2 3 4]\n",
            "Array c is  [1 2 3 4]\n",
            "Array d is  [b's' b't' b'r' b'i' b'n' b'g']\n"
          ],
          "name": "stdout"
        }
      ]
    },
    {
      "cell_type": "markdown",
      "metadata": {
        "id": "-aY5YRFZXrVj",
        "colab_type": "text"
      },
      "source": [
        "# Creating with Numerical Ranges"
      ]
    },
    {
      "cell_type": "markdown",
      "metadata": {
        "id": "JVnmKu40YNAz",
        "colab_type": "text"
      },
      "source": [
        "## np.arange( )\n",
        "It returns an array containing evenly spaced values within a given range."
      ]
    },
    {
      "cell_type": "code",
      "metadata": {
        "id": "tN0dJitv6PZ4",
        "colab_type": "code",
        "colab": {
          "base_uri": "https://localhost:8080/",
          "height": 50
        },
        "outputId": "15d3c6af-a46d-467c-f55a-b8b46d38cda2"
      },
      "source": [
        "# NumPy array from 1 to 19\n",
        "print(np.arange(1,20,dtype='int32'))\n",
        "\n",
        "# NumPy array from 1 to 19 with step size 2\n",
        "print(np.arange(1,20,2,dtype='int8'))"
      ],
      "execution_count": 3,
      "outputs": [
        {
          "output_type": "stream",
          "text": [
            "[ 1  2  3  4  5  6  7  8  9 10 11 12 13 14 15 16 17 18 19]\n",
            "[ 1  3  5  7  9 11 13 15 17 19]\n"
          ],
          "name": "stdout"
        }
      ]
    },
    {
      "cell_type": "markdown",
      "metadata": {
        "id": "47-_a9ElYd8D",
        "colab_type": "text"
      },
      "source": [
        "## np.linspace( )\n",
        "It also returns an array within a range but not according to the step size as in the case of .arange() but according to the number of values we want within that range.\n",
        "\n",
        "**Syntax:** numpy.linspace(start, stop, num, endpoint, retstep, dtype)\n",
        "\n"
      ]
    },
    {
      "cell_type": "code",
      "metadata": {
        "id": "dT8zYWYYYXXY",
        "colab_type": "code",
        "colab": {
          "base_uri": "https://localhost:8080/",
          "height": 302
        },
        "outputId": "6e881a63-bf9b-4570-8df9-9aca29a9ad3f"
      },
      "source": [
        "# NumPy array from 1 to 20 with 100 numbers in between\n",
        "print(np.linspace(1,20,100))"
      ],
      "execution_count": 4,
      "outputs": [
        {
          "output_type": "stream",
          "text": [
            "[ 1.          1.19191919  1.38383838  1.57575758  1.76767677  1.95959596\n",
            "  2.15151515  2.34343434  2.53535354  2.72727273  2.91919192  3.11111111\n",
            "  3.3030303   3.49494949  3.68686869  3.87878788  4.07070707  4.26262626\n",
            "  4.45454545  4.64646465  4.83838384  5.03030303  5.22222222  5.41414141\n",
            "  5.60606061  5.7979798   5.98989899  6.18181818  6.37373737  6.56565657\n",
            "  6.75757576  6.94949495  7.14141414  7.33333333  7.52525253  7.71717172\n",
            "  7.90909091  8.1010101   8.29292929  8.48484848  8.67676768  8.86868687\n",
            "  9.06060606  9.25252525  9.44444444  9.63636364  9.82828283 10.02020202\n",
            " 10.21212121 10.4040404  10.5959596  10.78787879 10.97979798 11.17171717\n",
            " 11.36363636 11.55555556 11.74747475 11.93939394 12.13131313 12.32323232\n",
            " 12.51515152 12.70707071 12.8989899  13.09090909 13.28282828 13.47474747\n",
            " 13.66666667 13.85858586 14.05050505 14.24242424 14.43434343 14.62626263\n",
            " 14.81818182 15.01010101 15.2020202  15.39393939 15.58585859 15.77777778\n",
            " 15.96969697 16.16161616 16.35353535 16.54545455 16.73737374 16.92929293\n",
            " 17.12121212 17.31313131 17.50505051 17.6969697  17.88888889 18.08080808\n",
            " 18.27272727 18.46464646 18.65656566 18.84848485 19.04040404 19.23232323\n",
            " 19.42424242 19.61616162 19.80808081 20.        ]\n"
          ],
          "name": "stdout"
        }
      ]
    },
    {
      "cell_type": "markdown",
      "metadata": {
        "id": "spCLH2hIYy7z",
        "colab_type": "text"
      },
      "source": [
        "## np.logspace( )\n",
        "This function returns an array containing numbers that are evenly spaced on a log scale. Start and stop endpoints of the scale are indices of the base, usually 10.\n",
        "\n",
        "**Syntax:** numpy.logspace(start, stop, num, endpoint, base, dtype)"
      ]
    },
    {
      "cell_type": "code",
      "metadata": {
        "id": "-k_ZLY81Yo3j",
        "colab_type": "code",
        "colab": {
          "base_uri": "https://localhost:8080/",
          "height": 353
        },
        "outputId": "46cab575-55c1-485c-dadd-8d3c2065171d"
      },
      "source": [
        "# NumPy array from 10^0 to 10^2 with 100 numbers in log scale\n",
        "print(np.logspace(0,2,100))"
      ],
      "execution_count": 5,
      "outputs": [
        {
          "output_type": "stream",
          "text": [
            "[  1.           1.04761575   1.09749877   1.149757     1.20450354\n",
            "   1.26185688   1.32194115   1.38488637   1.45082878   1.51991108\n",
            "   1.59228279   1.66810054   1.7475284    1.83073828   1.91791026\n",
            "   2.009233     2.10490414   2.20513074   2.3101297    2.42012826\n",
            "   2.53536449   2.65608778   2.7825594    2.91505306   3.05385551\n",
            "   3.19926714   3.35160265   3.51119173   3.67837977   3.85352859\n",
            "   4.03701726   4.22924287   4.43062146   4.64158883   4.86260158\n",
            "   5.09413801   5.33669923   5.59081018   5.85702082   6.13590727\n",
            "   6.42807312   6.73415066   7.05480231   7.39072203   7.74263683\n",
            "   8.11130831   8.49753436   8.90215085   9.32603347   9.77009957\n",
            "  10.23531022  10.72267222  11.23324033  11.76811952  12.32846739\n",
            "  12.91549665  13.53047775  14.17474163  14.84968262  15.55676144\n",
            "  16.29750835  17.07352647  17.88649529  18.73817423  19.6304065\n",
            "  20.56512308  21.5443469   22.5701972   23.64489413  24.77076356\n",
            "  25.95024211  27.18588243  28.48035868  29.8364724   31.2571585\n",
            "  32.74549163  34.30469286  35.93813664  37.64935807  39.44206059\n",
            "  41.320124    43.28761281  45.34878508  47.50810162  49.77023564\n",
            "  52.14008288  54.62277218  57.22367659  59.94842503  62.80291442\n",
            "  65.79332247  68.92612104  72.20809018  75.64633276  79.24828984\n",
            "  83.02175681  86.97490026  91.11627561  95.45484567 100.        ]\n"
          ],
          "name": "stdout"
        }
      ]
    },
    {
      "cell_type": "markdown",
      "metadata": {
        "id": "5XwlxVsOeR-q",
        "colab_type": "text"
      },
      "source": [
        "# Indexing\n",
        "Array indexing and slicing is exactly similar like Python indexing and slicing.\n",
        "It follows the same pattern of array[start:stop:step].\n",
        "<br>\n",
        "## Integer array indexing\n",
        "Integer array indexing allows you to construct arbitrary arrays using the data from another array.\n",
        "<br>\n",
        "\n",
        "### Boolean indexing\n",
        "This type is generally used for comparison purposes. For ex: How about checking if how many numbers in the array are greater than 50(say)? It can be performed using a simple comparison operator (>=, >, ==, <, <=)\n",
        "\n",
        "A boolean index array is of the same shape as the array-to-be-filtered and it contains only True and False values. You can filter those you want using the concept of masking . For ex: If for some array a and boolean condition condition = a > 2, a[condition] will result in an array that contains only the numbers in array a that are greater than 2.\n"
      ]
    },
    {
      "cell_type": "code",
      "metadata": {
        "id": "WKMOSNvgeqQS",
        "colab_type": "code",
        "colab": {
          "base_uri": "https://localhost:8080/",
          "height": 118
        },
        "outputId": "1f28bb37-ef3f-48ed-bc3c-a67cfad924b4"
      },
      "source": [
        "a = np.array([[1,2,3],[4,5,6],[7,8,9]])\n",
        "\n",
        "# Pull out second element of third row\n",
        "print(a[2][1])\n",
        "print('==========')\n",
        "# Pull out first two rows and columns\n",
        "print(a[:2,:2])\n",
        "print('==========')\n",
        "# Pull all elements of the third row\n",
        "print(a[2,:])"
      ],
      "execution_count": 6,
      "outputs": [
        {
          "output_type": "stream",
          "text": [
            "8\n",
            "==========\n",
            "[[1 2]\n",
            " [4 5]]\n",
            "==========\n",
            "[7 8 9]\n"
          ],
          "name": "stdout"
        }
      ]
    },
    {
      "cell_type": "code",
      "metadata": {
        "id": "OuEVS58ogP8I",
        "colab_type": "code",
        "colab": {
          "base_uri": "https://localhost:8080/",
          "height": 134
        },
        "outputId": "86e4cfb5-1d15-4f00-ac81-b542f28779a7"
      },
      "source": [
        "# An example of integer array indexing\n",
        "a=np.array([[1,2],[3,4],[5,6]])\n",
        "\n",
        "print(a[[0,1,2],[0,1,0]])\n",
        "print('==========')\n",
        "\n",
        "print(np.array([a[0,0],a[1,1],a[2,0]]))\n",
        "print('==========')\n",
        "\n",
        "print(a[[0,0],[1,1]])\n",
        "print('==========')\n",
        "\n",
        "print(np.array([a[0,1],a[0,1]]))\n",
        "\n",
        "#Explaination:\n",
        "#The print statements in line numbers 4 and 7 yield the same result, likewise in lines 10 and 13. \n",
        "#In the first case, a[[0, 1, 2], [0, 1, 0]] essentially means we are indexing the value in first row-first column, \n",
        "#second row-second column and third row-first column, which is the same as a[0, 0], a[1, 1], a[2, 0]]. \n",
        "#Similarly you should be able to deduce the logic behind the second case."
      ],
      "execution_count": 7,
      "outputs": [
        {
          "output_type": "stream",
          "text": [
            "[1 4 5]\n",
            "==========\n",
            "[1 4 5]\n",
            "==========\n",
            "[2 2]\n",
            "==========\n",
            "[2 2]\n"
          ],
          "name": "stdout"
        }
      ]
    },
    {
      "cell_type": "code",
      "metadata": {
        "id": "mrVOJvIvd_Ye",
        "colab_type": "code",
        "colab": {
          "base_uri": "https://localhost:8080/",
          "height": 84
        },
        "outputId": "f9d4fcd0-e2ba-49f4-e1ba-ab2b801c2f89"
      },
      "source": [
        "#Boolean indexing\n",
        "a = np.array([[4,7,1],[2,5,7],[7,1,1]])\n",
        "\n",
        "# Boolean condition for values greater than 3\n",
        "mask = a > 3\n",
        "print(mask)\n",
        "\n",
        "# Masking for the above boolean condition in the array\n",
        "print(a[mask])"
      ],
      "execution_count": 8,
      "outputs": [
        {
          "output_type": "stream",
          "text": [
            "[[ True  True False]\n",
            " [False  True  True]\n",
            " [ True False False]]\n",
            "[4 7 5 7 7]\n"
          ],
          "name": "stdout"
        }
      ]
    },
    {
      "cell_type": "markdown",
      "metadata": {
        "id": "YIpjYx3SiSUQ",
        "colab_type": "text"
      },
      "source": [
        "# Filter imaginary numbers\n",
        "\n",
        "* Create a (4,) array with values 3, 4.5, 3 + 5j and 0 using \"np.array()\". Save it to a variable array\n",
        "* Create a boolean condition real to retain only real number using .isreal(array). (Note: .isreal(array) returns a Boolean value which is True if the number inside the array is a real number and False otherwise)\n",
        "*Now apply this Boolean condition i.e. real on array using Boolean indexing (explained in the topic) by array[real] and store it in variable real_array.\n",
        "*Similarly create a Boolean condition imag to retain only complex numbers which you can do it using .iscomplex(array). This time create an array imag_array which contains only complex numbers using the Boolean condition array[imag]"
      ]
    },
    {
      "cell_type": "code",
      "metadata": {
        "id": "MqBbhttdh-wt",
        "colab_type": "code",
        "colab": {
          "base_uri": "https://localhost:8080/",
          "height": 84
        },
        "outputId": "a44f58ab-c119-4900-96bc-6bc11d70e553"
      },
      "source": [
        "# initialize array\n",
        "array = np.array([ 3, 4.5, 3 + 5j , 0])\n",
        "\n",
        "# boolean filter\n",
        "real = np.isreal(array)\n",
        "print(real)\n",
        "\n",
        "# boolean filter\n",
        "real_array = array[real]\n",
        "print(real_array)\n",
        "\n",
        "\n",
        "imag = np.iscomplex(array)\n",
        "print(imag)\n",
        "\n",
        "imag_array = array[imag]\n",
        "print(imag_array)"
      ],
      "execution_count": 9,
      "outputs": [
        {
          "output_type": "stream",
          "text": [
            "[ True  True False  True]\n",
            "[3. +0.j 4.5+0.j 0. +0.j]\n",
            "[False False  True False]\n",
            "[3.+5.j]\n"
          ],
          "name": "stdout"
        }
      ]
    },
    {
      "cell_type": "code",
      "metadata": {
        "id": "gRg5ly-BiiBs",
        "colab_type": "code",
        "colab": {}
      },
      "source": [
        ""
      ],
      "execution_count": 0,
      "outputs": []
    }
  ]
}